{
  "nbformat": 4,
  "nbformat_minor": 0,
  "metadata": {
    "colab": {
      "provenance": []
    },
    "kernelspec": {
      "name": "python3",
      "display_name": "Python 3"
    },
    "language_info": {
      "name": "python"
    }
  },
  "cells": [
    {
      "cell_type": "code",
      "execution_count": 1,
      "metadata": {
        "id": "LbV-7KWQefAp"
      },
      "outputs": [],
      "source": [
        "from numpy import array, random, dot\n",
        "from random import choice"
      ]
    },
    {
      "cell_type": "code",
      "source": [
        "step_function = lambda x: 0 if x < 0 else 1"
      ],
      "metadata": {
        "id": "z-bEWS1Yerk7"
      },
      "execution_count": 2,
      "outputs": []
    },
    {
      "cell_type": "code",
      "source": [
        "training_dataset = [\n",
        "\n",
        "    (array([0,0,1]), 0),\n",
        "\n",
        "    (array([0,1,1]), 1),\n",
        "\n",
        "    (array([1,0,1]), 1),\n",
        "\n",
        "    (array([1,1,1]), 1),\n",
        "\n",
        "]"
      ],
      "metadata": {
        "id": "hQVL-by5es2t"
      },
      "execution_count": 3,
      "outputs": []
    },
    {
      "cell_type": "code",
      "source": [
        "weights = random.rand(3)"
      ],
      "metadata": {
        "id": "BJZYFjSJewLn"
      },
      "execution_count": 4,
      "outputs": []
    },
    {
      "cell_type": "code",
      "source": [
        "error = []\n",
        "\n",
        "learning_rate = 0.2\n",
        "\n",
        "n = 100"
      ],
      "metadata": {
        "id": "Cl_XsKcLezsn"
      },
      "execution_count": 5,
      "outputs": []
    },
    {
      "cell_type": "code",
      "source": [
        "for j in range(n):\n",
        "\n",
        "    x, expected = choice(training_dataset)\n",
        "\n",
        "    result = dot(weights, x)\n",
        "\n",
        "    err = expected - step_function(result)\n",
        "\n",
        "    error.append(err)\n",
        "\n",
        "    weights += learning_rate * err * x"
      ],
      "metadata": {
        "id": "sm27az1we2xs"
      },
      "execution_count": 6,
      "outputs": []
    },
    {
      "cell_type": "code",
      "source": [
        "for x, _ in training_dataset:\n",
        "\n",
        "    result = dot(x, weights)\n",
        "\n",
        "    print('{}: {} -> {}'.format(x[:2],result,step_function(result)))"
      ],
      "metadata": {
        "colab": {
          "base_uri": "https://localhost:8080/"
        },
        "id": "2zDAhD1rfFEc",
        "outputId": "f159e7dd-255b-4460-8290-6fe263bb6359"
      },
      "execution_count": 7,
      "outputs": [
        {
          "output_type": "stream",
          "name": "stdout",
          "text": [
            "[0 0]: -0.14549672463030827 -> 0\n",
            "[0 1]: 0.041623295608275046 -> 1\n",
            "[1 0]: 0.4295688770709549 -> 1\n",
            "[1 1]: 0.6166888973095382 -> 1\n"
          ]
        }
      ]
    },
    {
      "cell_type": "code",
      "source": [
        "from pylab import ylim,plot\n",
        "\n",
        "from matplotlib import pyplot as plt\n",
        "\n",
        "ylim([-1,1])\n",
        "\n",
        "plot(error)\n",
        "\n",
        "plt.show()"
      ],
      "metadata": {
        "colab": {
          "base_uri": "https://localhost:8080/",
          "height": 269
        },
        "id": "kCcjYuP3feP8",
        "outputId": "9f38c1ce-4832-45de-db45-dc9376e98570"
      },
      "execution_count": 8,
      "outputs": [
        {
          "output_type": "display_data",
          "data": {
            "text/plain": [
              "<Figure size 432x288 with 1 Axes>"
            ],
            "image/png": "[encoded data removed]"
          },
          "metadata": {
            "needs_background": "light"
          }
        }
      ]
    }
  ]
}