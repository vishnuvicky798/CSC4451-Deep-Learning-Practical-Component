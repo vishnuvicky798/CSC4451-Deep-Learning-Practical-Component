{
  "nbformat": 4,
  "nbformat_minor": 0,
  "metadata": {
    "colab": {
      "provenance": []
    },
    "kernelspec": {
      "name": "python3",
      "display_name": "Python 3"
    },
    "language_info": {
      "name": "python"
    }
  },
  "cells": [
    {
      "cell_type": "code",
      "source": [
        "import numpy as np\n",
        "from sklearn.preprocessing import MinMaxScaler\n",
        "import matplotlib.pyplot as plt"
      ],
      "metadata": {
        "id": "7iKKM5NWayHw"
      },
      "execution_count": 1,
      "outputs": []
    },
    {
      "cell_type": "code",
      "source": [
        "input_train = np.array([[0, 1, 0], [0, 1, 1], [0, 0, 0], \n",
        "                        [10, 0, 0], [10, 1, 1], [10, 0, 1]])\n",
        "output_train = np.array([[0], [0], [0], [1], [1], [1]])\n",
        "input_pred = np.array([1, 1, 0])\n",
        "\n",
        "input_test = np.array([[1, 1, 1], [10, 0, 1], [0, 1, 10], \n",
        "                       [10, 1, 10], [0, 0, 0], [0, 1, 1]])\n",
        "output_test = np.array([[0], [1], [0], [1], [0], [0]])"
      ],
      "metadata": {
        "id": "fEiIakG_a1u2"
      },
      "execution_count": 2,
      "outputs": []
    },
    {
      "cell_type": "code",
      "source": [
        "scaler = MinMaxScaler()\n",
        "input_train_scaled = scaler.fit_transform(input_train)\n",
        "output_train_scaled = scaler.fit_transform(output_train)\n",
        "input_test_scaled = scaler.fit_transform(input_test)\n",
        "output_test_scaled = scaler.fit_transform(output_test)"
      ],
      "metadata": {
        "id": "KWW8_nmGbX98"
      },
      "execution_count": 3,
      "outputs": []
    },
    {
      "cell_type": "code",
      "source": [
        "class NeuralNetwork():\n",
        "    def __init__(self, ):\n",
        "        self.inputSize = 3\n",
        "        self.outputSize = 1\n",
        "        self.hiddenSize = 3\n",
        "\n",
        "        self.W1 = np.random.rand(self.inputSize, self.hiddenSize)\n",
        "        self.W2 = np.random.rand(self.hiddenSize, self.outputSize)\n",
        "\n",
        "        self.error_list = []\n",
        "        self.limit = 0.5\n",
        "        self.true_positives = 0\n",
        "        self.false_positives = 0\n",
        "        self.true_negatives = 0\n",
        "        self.false_negatives = 0\n",
        "\n",
        "    def forward(self, X):\n",
        "        self.z = np.matmul(X, self.W1)\n",
        "        self.z2 = self.sigmoid(self.z)\n",
        "        self.z3 = np.matmul(self.z2, self.W2)\n",
        "        o = self.sigmoid(self.z3)\n",
        "        return o\n",
        "\n",
        "    def sigmoid(self, s):\n",
        "        return 1 / (1 + np.exp(-s))\n",
        "\n",
        "    def sigmoidPrime(self, s):\n",
        "        return s * (1 - s)\n",
        "\n",
        "    def backward(self, X, y, o):\n",
        "        self.o_error = y - o\n",
        "        self.o_delta = self.o_error * self.sigmoidPrime(o)\n",
        "        self.z2_error = np.matmul(self.o_delta,\n",
        "                                  np.matrix.transpose(self.W2))\n",
        "        self.z2_delta = self.z2_error * self.sigmoidPrime(self.z2)\n",
        "        self.W1 += np.matmul(np.matrix.transpose(X), self.z2_delta)\n",
        "        self.W2 += np.matmul(np.matrix.transpose(self.z2),\n",
        "                             self.o_delta)\n",
        "\n",
        "    def train(self, X, y, epochs):\n",
        "        for epoch in range(epochs):\n",
        "            o = self.forward(X)\n",
        "            self.backward(X, y, o)\n",
        "            self.error_list.append(np.abs(self.o_error).mean())\n",
        "\n",
        "    def predict(self, x_predicted):\n",
        "        return self.forward(x_predicted).item()\n",
        "\n",
        "    def view_error_development(self):\n",
        "        plt.plot(range(len(self.error_list)), self.error_list)\n",
        "        plt.title('Mean Sum Squared Loss')\n",
        "        plt.xlabel('Epoch')\n",
        "        plt.ylabel('Loss')\n",
        "\n",
        "    def test_evaluation(self, input_test, output_test):\n",
        "        for i, test_element in enumerate(input_test):\n",
        "            if self.predict(test_element) > self.limit and \\\n",
        "                    output_test[i] == 1:\n",
        "                self.true_positives += 1\n",
        "            if self.predict(test_element) < self.limit and \\\n",
        "                    output_test[i] == 1:\n",
        "                self.false_negatives += 1\n",
        "            if self.predict(test_element) > self.limit and \\\n",
        "                    output_test[i] == 0:\n",
        "                self.false_positives += 1\n",
        "            if self.predict(test_element) < self.limit and \\\n",
        "                    output_test[i] == 0:\n",
        "                self.true_negatives += 1\n",
        "        print('True positives: ', self.true_positives,\n",
        "              '\\nTrue negatives: ', self.true_negatives,\n",
        "              '\\nFalse positives: ', self.false_positives,\n",
        "              '\\nFalse negatives: ', self.false_negatives,\n",
        "              '\\nAccuracy: ',\n",
        "              (self.true_positives + self.true_negatives) /\n",
        "              (self.true_positives + self.true_negatives +\n",
        "               self.false_positives + self.false_negatives))\n"
      ],
      "metadata": {
        "id": "5XX3915Hbftt"
      },
      "execution_count": 4,
      "outputs": []
    },
    {
      "cell_type": "code",
      "source": [
        "def __init__(self, ):\n",
        "    self.inputSize = 3\n",
        "    self.outputSize = 1\n",
        "    self.hiddenSize = 3\n",
        "\n",
        "    self.W1 = torch.randn(self.inputSize, self.hiddenSize)\n",
        "    self.W2 = torch.randn(self.hiddenSize, self.outputSize)\n",
        "\n",
        "    self.error_list = []\n",
        "    self.limit = 0.5\n",
        "    self.true_positives = 0\n",
        "    self.false_positives = 0\n",
        "    self.true_negatives = 0\n",
        "    self.false_negatives = 0"
      ],
      "metadata": {
        "id": "rPlXyn3FbkXk"
      },
      "execution_count": 5,
      "outputs": []
    },
    {
      "cell_type": "code",
      "source": [
        "def forward(self, X):\n",
        "        self.z = np.matmul(X, self.W1)\n",
        "        self.z2 = self.sigmoid(self.z)\n",
        "        self.z3 = np.matmul(self.z2, self.W2)\n",
        "        o = self.sigmoid(self.z3)\n",
        "        return o"
      ],
      "metadata": {
        "id": "0o_-hIrzbo-0"
      },
      "execution_count": 6,
      "outputs": []
    },
    {
      "cell_type": "code",
      "source": [
        "def backward(self, X, y, o):\n",
        "        self.o_error = y - o\n",
        "        self.o_delta = self.o_error * self.sigmoidPrime(o)\n",
        "        self.z2_error = np.matmul(self.o_delta,\n",
        "                                  np.matrix.transpose(self.W2))\n",
        "        self.z2_delta = self.z2_error * self.sigmoidPrime(self.z2)\n",
        "        self.W1 += np.matmul(np.matrix.transpose(X), self.z2_delta)\n",
        "        self.W2 += np.matmul(np.matrix.transpose(self.z2),\n",
        "                             self.o_delta)"
      ],
      "metadata": {
        "id": "JSIIpmNDbtn9"
      },
      "execution_count": 7,
      "outputs": []
    },
    {
      "cell_type": "code",
      "source": [
        "def train(self, X, y, epochs):\n",
        "        for epoch in range(epochs):\n",
        "            o = self.forward(X)\n",
        "            self.backward(X, y, o)\n",
        "            self.error_list.append(np.abs(self.o_error).mean())"
      ],
      "metadata": {
        "id": "U1ow29bDbvcf"
      },
      "execution_count": 8,
      "outputs": []
    },
    {
      "cell_type": "code",
      "source": [
        "def predict(self, x_predicted):\n",
        "        return self.forward(x_predicted).item()"
      ],
      "metadata": {
        "id": "_CQE2gkxb2DV"
      },
      "execution_count": 9,
      "outputs": []
    },
    {
      "cell_type": "code",
      "source": [
        "def view_error_development(self):\n",
        "        plt.plot(range(len(self.error_list)), self.error_list)\n",
        "        plt.title('Mean Sum Squared Loss')\n",
        "        plt.xlabel('Epoch')\n",
        "        plt.ylabel('Loss')"
      ],
      "metadata": {
        "id": "AKF8OwW1b5b8"
      },
      "execution_count": 10,
      "outputs": []
    },
    {
      "cell_type": "code",
      "source": [
        "def test_evaluation(self, input_test, output_test):\n",
        "        for i, test_element in enumerate(input_test):\n",
        "            if self.predict(test_element) > self.limit and \\\n",
        "                    output_test[i] == 1:\n",
        "                self.true_positives += 1\n",
        "            if self.predict(test_element) < self.limit and \\\n",
        "                    output_test[i] == 1:\n",
        "                self.false_negatives += 1\n",
        "            if self.predict(test_element) > self.limit and \\\n",
        "                    output_test[i] == 0:\n",
        "                self.false_positives += 1\n",
        "            if self.predict(test_element) < self.limit and \\\n",
        "                    output_test[i] == 0:\n",
        "                self.true_negatives += 1\n",
        "        print('True positives: ', self.true_positives,\n",
        "              '\\nTrue negatives: ', self.true_negatives,\n",
        "              '\\nFalse positives: ', self.false_positives,\n",
        "              '\\nFalse negatives: ', self.false_negatives,\n",
        "              '\\nAccuracy: ',\n",
        "              (self.true_positives + self.true_negatives) /\n",
        "              (self.true_positives + self.true_negatives +\n",
        "               self.false_positives + self.false_negatives))"
      ],
      "metadata": {
        "id": "l9_cKnXYcZyL"
      },
      "execution_count": 11,
      "outputs": []
    },
    {
      "cell_type": "code",
      "source": [
        "NN = NeuralNetwork()\n",
        "NN.train(input_train_scaled, output_train_scaled, 200)\n",
        "NN.predict(input_pred)\n",
        "NN.view_error_development()\n",
        "NN.test_evaluation(input_test_scaled, output_test_scaled)"
      ],
      "metadata": {
        "colab": {
          "base_uri": "https://localhost:8080/",
          "height": 382
        },
        "id": "wN2U6B8KcbIk",
        "outputId": "00de24d8-53ce-463a-b2d1-a54c2416dfeb"
      },
      "execution_count": 12,
      "outputs": [
        {
          "output_type": "stream",
          "name": "stdout",
          "text": [
            "True positives:  2 \n",
            "True negatives:  4 \n",
            "False positives:  0 \n",
            "False negatives:  0 \n",
            "Accuracy:  1.0\n"
          ]
        },
        {
          "output_type": "display_data",
          "data": {
            "text/plain": [
              "<Figure size 432x288 with 1 Axes>"
            ],
            "image/png": "[encoded data removed]"
          },
          "metadata": {
            "needs_background": "light"
          }
        }
      ]
    }
  ]
}